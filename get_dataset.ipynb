{
 "cells": [
  {
   "cell_type": "code",
   "execution_count": 2,
   "metadata": {},
   "outputs": [],
   "source": [
    "import numpy as np\n",
    "import pandas as pd\n",
    "import matplotlib.pyplot as plt\n",
    "import seaborn as sns\n",
    "import yfinance as yf\n",
    "from fredapi import Fred"
   ]
  },
  {
   "cell_type": "code",
   "execution_count": 6,
   "metadata": {},
   "outputs": [],
   "source": [
    "# KOSIS에서 가져온 석유, 석탄, 천연가스 생산/소비 데이터를 정제하는 함수수\n",
    "\n",
    "def get_oil(filename, type):\n",
    "    oil = pd.read_csv(filename,encoding='cp949', header=None)\n",
    "    oil.columns = oil.iloc[0,:] +'@' + oil.iloc[1,:]\n",
    "    oil = oil.drop([0,1],axis=0)\n",
    "    df_melted = pd.melt(oil, id_vars=['국가별@국가별'], var_name='연도', value_name='값')\n",
    "    df_melted[['연도','구분']] = df_melted['연도'].str.split('@', expand=True)\n",
    "    df_melted.columns = ['nation','year','value','description']\n",
    "    order = ['year','nation','description','value',]\n",
    "    df_melted = df_melted[order]\n",
    "    df_melted['type'] = type\n",
    "    df_melted.to_csv(type + '.csv', encoding='cp949')\n",
    "\n",
    "    return df_melted"
   ]
  },
  {
   "cell_type": "code",
   "execution_count": null,
   "metadata": {},
   "outputs": [],
   "source": [
    "# 데이터 프레임 및 csv 반환환\n",
    "\n",
    "df_oil = get_oil('석유생산및소비.csv', 'oil')\n",
    "df_gas = get_oil('천연가스생산및소비.csv', 'gas')\n",
    "df_coal = get_oil('석탄생산및소비.csv', 'coal')"
   ]
  },
  {
   "cell_type": "code",
   "execution_count": 8,
   "metadata": {},
   "outputs": [],
   "source": [
    "key = '5b4c4ffb733c6280553790b25358670a'\n",
    "start_date = '1995-01-01'\n",
    "end_date = '2023-12-31'\n",
    "fred = Fred(api_key=key)\n",
    "\n",
    "# gdp = fred.get_series('GDP', observation_start=start_date, observation_end=end_date) \n",
    "m2 = fred.get_series('M2SL', observation_start=start_date, observation_end=end_date)\n",
    "unemploy = fred.get_series('UNRATE', observation_start=start_date, observation_end=end_date)\n",
    "interest = fred.get_series('DFF', observation_start=start_date, observation_end=end_date)\n",
    "# snp500 = fred.get_series('SP500', observation_start=start_date, observation_end=end_date)\n",
    "# pce = fred.get_series('PCEPI', observation_start=start_date, observation_end=end_date)\n",
    "wti = fred.get_series('POILWTIUSDM', observation_start=start_date, observation_end=end_date) # Global price of WTI Crude\n",
    "uranium = fred.get_series('PURANUSDM', observation_start=start_date, observation_end=end_date)\n",
    "coal = fred.get_series('PCOALAUUSDM', observation_start=start_date, observation_end=end_date)\n",
    "lng = fred.get_series('PNGASJPUSDM', observation_start=start_date, observation_end=end_date)"
   ]
  },
  {
   "cell_type": "code",
   "execution_count": 9,
   "metadata": {},
   "outputs": [],
   "source": [
    "prices = dict()\n",
    "prices['wti'] = wti\n",
    "prices['uranium'] = uranium\n",
    "prices['coal'] = coal\n",
    "prices['lng'] = lng\n",
    "df_prices = pd.DataFrame(prices)"
   ]
  },
  {
   "cell_type": "code",
   "execution_count": 10,
   "metadata": {},
   "outputs": [],
   "source": [
    "df_prices.to_csv('./data/prices.csv', encoding='cp949')"
   ]
  },
  {
   "cell_type": "code",
   "execution_count": 166,
   "metadata": {},
   "outputs": [],
   "source": [
    "indicators = dict()\n",
    "indicators['m2']= m2\n",
    "indicators['unemploy'] = unemploy\n",
    "indicators['interest'] = interest\n",
    "df_indicators = pd.DataFrame(indicators)"
   ]
  },
  {
   "cell_type": "code",
   "execution_count": 167,
   "metadata": {},
   "outputs": [],
   "source": [
    "df_prices.to_csv('energy_prices.csv', encoding='cp949')\n",
    "df_indicators.to_csv('indicators.csv', encoding='cp949')"
   ]
  },
  {
   "cell_type": "code",
   "execution_count": 148,
   "metadata": {},
   "outputs": [],
   "source": [
    "df = pd.read_csv('연료별1차에너지소비.csv', encoding='cp949')"
   ]
  },
  {
   "cell_type": "code",
   "execution_count": 152,
   "metadata": {},
   "outputs": [],
   "source": [
    "energy_spend = df.melt(id_vars=['국가별','항목','단위'], var_name='연도', value_name='value')"
   ]
  },
  {
   "cell_type": "code",
   "execution_count": 153,
   "metadata": {},
   "outputs": [],
   "source": [
    "energy_spend.to_csv('energy_spend.csv', encoding='cp949')"
   ]
  },
  {
   "cell_type": "code",
   "execution_count": 154,
   "metadata": {},
   "outputs": [],
   "source": [
    "df = pd.read_csv('국가별GDP.csv', encoding='cp949')"
   ]
  },
  {
   "cell_type": "code",
   "execution_count": 158,
   "metadata": {},
   "outputs": [],
   "source": [
    "world_gdp = df.melt(id_vars=['국가별'], var_name='연도', value_name='value')"
   ]
  },
  {
   "cell_type": "code",
   "execution_count": 159,
   "metadata": {},
   "outputs": [],
   "source": [
    "world_gdp.to_csv('world_gdp.csv', encoding='cp949')"
   ]
  },
  {
   "cell_type": "code",
   "execution_count": 3,
   "metadata": {},
   "outputs": [
    {
     "name": "stderr",
     "output_type": "stream",
     "text": [
      "[*********************100%***********************]  1 of 1 completed\n"
     ]
    }
   ],
   "source": [
    "df_dollar_idx = yf.download('DX-Y.NYB', start='1995-01-01', end='2024-12-31')"
   ]
  },
  {
   "cell_type": "code",
   "execution_count": 4,
   "metadata": {},
   "outputs": [],
   "source": [
    "df_dollar_idx = df_dollar_idx['Close'].reset_index()\n",
    "df_dollar_idx.columns = ['date', 'dollar_idx']\n",
    "df_dollar_idx.to_csv('dollar_idx.csv', encoding='cp949')"
   ]
  },
  {
   "cell_type": "code",
   "execution_count": 187,
   "metadata": {},
   "outputs": [],
   "source": [
    "df_electric = pd.read_csv('전력생산량.csv', encoding='cp949')"
   ]
  },
  {
   "cell_type": "code",
   "execution_count": 189,
   "metadata": {},
   "outputs": [],
   "source": [
    "df_electric = df_electric.drop('단위', axis=1)"
   ]
  },
  {
   "cell_type": "code",
   "execution_count": 192,
   "metadata": {},
   "outputs": [],
   "source": [
    "df_electric = df_electric.melt(id_vars=['국가별','항목'], var_name='연도',value_name='value')"
   ]
  },
  {
   "cell_type": "code",
   "execution_count": 193,
   "metadata": {},
   "outputs": [],
   "source": [
    "df_electric.to_csv('generate_electric.csv', encoding='cp949')"
   ]
  },
  {
   "cell_type": "code",
   "execution_count": 4,
   "metadata": {},
   "outputs": [
    {
     "name": "stderr",
     "output_type": "stream",
     "text": [
      "[*********************100%***********************]  1 of 1 completed\n",
      "[*********************100%***********************]  1 of 1 completed\n"
     ]
    }
   ],
   "source": [
    "df_gold = yf.download('GC=F', start='1995-01-01', end='2023-12-31')\n",
    "df_gold['Close']['GC=F'].to_csv('./data/gold.csv', encoding='cp949')\n",
    "df_btc = yf.download('BTC-USD', start='1995-01-01', end='2023-12-31')\n",
    "df_btc['Close']['BTC-USD'].to_csv('./data/btc.csv', encoding='cp949')"
   ]
  },
  {
   "cell_type": "code",
   "execution_count": null,
   "metadata": {},
   "outputs": [],
   "source": []
  }
 ],
 "metadata": {
  "kernelspec": {
   "display_name": "finance_project",
   "language": "python",
   "name": "python3"
  },
  "language_info": {
   "codemirror_mode": {
    "name": "ipython",
    "version": 3
   },
   "file_extension": ".py",
   "mimetype": "text/x-python",
   "name": "python",
   "nbconvert_exporter": "python",
   "pygments_lexer": "ipython3",
   "version": "3.12.8"
  }
 },
 "nbformat": 4,
 "nbformat_minor": 2
}
