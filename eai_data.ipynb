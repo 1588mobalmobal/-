{
 "cells": [
  {
   "cell_type": "code",
   "execution_count": 1,
   "metadata": {},
   "outputs": [],
   "source": [
    "import datetime as dt\n",
    "import numpy as np\n",
    "import pandas as pd\n",
    "import matplotlib.pyplot as plt\n",
    "import seaborn as sns\n",
    "import yfinance as yf\n",
    "# from fredapi import Fred\n",
    "from sklearn.preprocessing import MinMaxScaler\n",
    "from sklearn.preprocessing import Normalizer\n",
    "from sklearn.preprocessing import StandardScaler\n",
    "\n",
    "mm_scaler = MinMaxScaler()\n",
    "st_scaler = StandardScaler()"
   ]
  },
  {
   "cell_type": "code",
   "execution_count": 64,
   "metadata": {},
   "outputs": [],
   "source": [
    "def get_df(name):\n",
    "    df = pd.read_csv('./new_data/'+name+'.csv', encoding='cp949')\n",
    "    df['Date'] = df['Date'].str[:2]\n",
    "    columns = df.columns.tolist()\n",
    "    # if 'WTI Real Price (GDP Deflated)' in columns:\n",
    "    #     columns.remove('WTI Real Price (GDP Deflated)')\n",
    "    #     df.drop('WTI Real Price (GDP Deflated)', axis=1,inplace=True)\n",
    "    columns[0] = 'quater'\n",
    "    columns[1] = 'year'\n",
    "    df.columns = columns\n",
    "    return df"
   ]
  },
  {
   "cell_type": "code",
   "execution_count": 47,
   "metadata": {},
   "outputs": [],
   "source": [
    "balance = get_df('balance')\n",
    "demand_summary = get_df('Demand_summary')\n",
    "markets_index = get_df('Markets_index')\n",
    "markets_interest = get_df('Markets_interest')\n",
    "non_oecd_consumption = get_df('nonOECD_consumption')\n",
    "non_opec_production = get_df('nonOPEC_production')\n",
    "oecd_consumption = get_df('OECD_consumption')\n",
    "opec_spare_capacity = get_df('opec_spare_capacity')\n",
    "saudi_production = get_df('saudi_production')\n",
    "supply_summary = get_df('Supply_summary')"
   ]
  },
  {
   "cell_type": "code",
   "execution_count": 48,
   "metadata": {},
   "outputs": [],
   "source": [
    "df = balance.merge(demand_summary,on=['quater','year'],how='outer')\n",
    "df = df.merge(markets_index,on=['quater','year'],how='outer')\n",
    "df = df.merge(markets_interest,on=['quater','year'],how='outer')\n",
    "df = df.merge(non_oecd_consumption,on=['quater','year'],how='outer')\n",
    "df = df.merge(non_opec_production,on=['quater','year'],how='outer')\n",
    "df = df.merge(oecd_consumption,on=['quater','year'],how='outer')\n",
    "df = df.merge(opec_spare_capacity,on=['quater','year'],how='outer')\n",
    "df = df.merge(saudi_production,on=['quater','year'],how='outer')\n",
    "df = df.merge(supply_summary,on=['quater','year'],how='outer')"
   ]
  },
  {
   "cell_type": "code",
   "execution_count": 65,
   "metadata": {},
   "outputs": [],
   "source": [
    "df_wti = get_df('Demand_summary')"
   ]
  },
  {
   "cell_type": "code",
   "execution_count": 68,
   "metadata": {},
   "outputs": [],
   "source": [
    "df_wti = df_wti[['quater','year','WTI Real Price (GDP Deflated)']]"
   ]
  },
  {
   "cell_type": "code",
   "execution_count": 70,
   "metadata": {},
   "outputs": [],
   "source": [
    "df = df.merge(df_wti, on=['quater','year'], how='outer')"
   ]
  },
  {
   "cell_type": "code",
   "execution_count": 72,
   "metadata": {},
   "outputs": [],
   "source": [
    "df.to_csv('./new_data/total_data.csv', encoding='cp949')"
   ]
  },
  {
   "cell_type": "code",
   "execution_count": null,
   "metadata": {},
   "outputs": [],
   "source": []
  }
 ],
 "metadata": {
  "kernelspec": {
   "display_name": "base",
   "language": "python",
   "name": "python3"
  },
  "language_info": {
   "codemirror_mode": {
    "name": "ipython",
    "version": 3
   },
   "file_extension": ".py",
   "mimetype": "text/x-python",
   "name": "python",
   "nbconvert_exporter": "python",
   "pygments_lexer": "ipython3",
   "version": "3.12.7"
  }
 },
 "nbformat": 4,
 "nbformat_minor": 2
}
